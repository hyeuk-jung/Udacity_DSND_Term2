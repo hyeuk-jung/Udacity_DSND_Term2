{
 "cells": [
  {
   "cell_type": "markdown",
   "metadata": {},
   "source": [
    "# Cleaning Quiz: Udacity's Course Catalog\n",
    "It's your turn! Udacity's [course catalog page](https://www.udacity.com/courses/all) has changed since the last video was filmed. One notable change is the introduction of  _schools_.\n",
    "\n",
    "In this activity, you're going to perform similar actions with BeautifulSoup to extract the following information from each course listing on the page:\n",
    "1. The course name - e.g. \"Data Analyst\"\n",
    "2. The school the course belongs to - e.g. \"School of Data Science\"\n",
    "\n",
    "**Note: All solution notebooks can be found by clicking on the Jupyter icon on the top left of this workspace.**"
   ]
  },
  {
   "cell_type": "markdown",
   "metadata": {},
   "source": [
    "### Step 1: Get text from Udacity's course catalog web page\n",
    "You can use the `requests` library to do this.\n",
    "\n",
    "Outputting all the javascript, CSS, and text may overload the space available to load this notebook, so we omit a print statement here."
   ]
  },
  {
   "cell_type": "code",
   "execution_count": 1,
   "metadata": {},
   "outputs": [],
   "source": [
    "# import statements\n",
    "import requests\n",
    "from bs4 import BeautifulSoup"
   ]
  },
  {
   "cell_type": "code",
   "execution_count": 2,
   "metadata": {},
   "outputs": [],
   "source": [
    "# fetch web page\n",
    "r = requests.get('https://www.udacity.com/courses/all')"
   ]
  },
  {
   "cell_type": "markdown",
   "metadata": {},
   "source": [
    "### Step 2: Use BeautifulSoup to remove HTML tags\n",
    "Use `\"lxml\"` rather than `\"html5lib\"`.\n",
    "\n",
    "Again, printing this entire result may overload the space available to load this notebook, so we omit a print statement here."
   ]
  },
  {
   "cell_type": "code",
   "execution_count": 3,
   "metadata": {},
   "outputs": [],
   "source": [
    "soup = BeautifulSoup(r.text, 'lxml')"
   ]
  },
  {
   "cell_type": "markdown",
   "metadata": {},
   "source": [
    "### Step 3: Find all course summaries\n",
    "Use the BeautifulSoup's `find_all` method to select based on tag type and class name. Just like in the video, you can right click on the item, and click \"Inspect\" to view its html on a web page."
   ]
  },
  {
   "cell_type": "code",
   "execution_count": 4,
   "metadata": {},
   "outputs": [
    {
     "name": "stdout",
     "output_type": "stream",
     "text": [
      "Number of Courses: 235\n"
     ]
    }
   ],
   "source": [
    "# Find all course summaries\n",
    "summaries = soup.find_all(\"div\", {\"class\":\"course-summary-card\"})\n",
    "print('Number of Courses:', len(summaries))"
   ]
  },
  {
   "cell_type": "markdown",
   "metadata": {},
   "source": [
    "### Step 4: Inspect the first summary to find selectors for the course name and school\n",
    "Tip: `.prettify()` is a super helpful method BeautifulSoup provides to output html in a nicely indented form! Make sure to use `print()` to ensure whitespace is displayed properly."
   ]
  },
  {
   "cell_type": "code",
   "execution_count": 5,
   "metadata": {},
   "outputs": [
    {
     "name": "stdout",
     "output_type": "stream",
     "text": [
      "<div _ngcontent-sc213=\"\" class=\"course-summary-card row row-gap-medium catalog-card nanodegree-card ng-star-inserted\">\n",
      " <ir-catalog-card _ngcontent-sc213=\"\" _nghost-sc216=\"\">\n",
      "  <div _ngcontent-sc216=\"\" class=\"card-wrapper is-collapsed\">\n",
      "   <div _ngcontent-sc216=\"\" class=\"card__inner card mb-0\">\n",
      "    <div _ngcontent-sc216=\"\" class=\"card__inner--upper\">\n",
      "     <div _ngcontent-sc216=\"\" class=\"image_wrapper hidden-md-down\">\n",
      "      <a _ngcontent-sc216=\"\" href=\"/course/intro-to-machine-learning-with-tensorflow-nanodegree--nd230\">\n",
      "       <!-- -->\n",
      "       <div _ngcontent-sc216=\"\" class=\"image-container ng-star-inserted\" style=\"background-image:url(https://d20vrrgs8k4bvw.cloudfront.net/images/degrees/nd229/nd-card.jpg);\">\n",
      "        <div _ngcontent-sc216=\"\" class=\"image-overlay\">\n",
      "        </div>\n",
      "       </div>\n",
      "      </a>\n",
      "      <!-- -->\n",
      "     </div>\n",
      "     <div _ngcontent-sc216=\"\" class=\"card-content\">\n",
      "      <!-- -->\n",
      "      <span _ngcontent-sc216=\"\" class=\"tag tag--new card ng-star-inserted\">\n",
      "       New\n",
      "      </span>\n",
      "      <!-- -->\n",
      "      <div _ngcontent-sc216=\"\" class=\"category-wrapper\">\n",
      "       <span _ngcontent-sc216=\"\" class=\"mobile-icon\">\n",
      "       </span>\n",
      "       <!-- -->\n",
      "       <h4 _ngcontent-sc216=\"\" class=\"category ng-star-inserted\">\n",
      "        School of Artificial Intelligence\n",
      "       </h4>\n",
      "      </div>\n",
      "      <h3 _ngcontent-sc216=\"\" class=\"card-heading\">\n",
      "       <a _ngcontent-sc216=\"\" class=\"capitalize\" href=\"/course/intro-to-machine-learning-with-tensorflow-nanodegree--nd230\">\n",
      "        Intro to Machine Learning with TensorFlow\n",
      "       </a>\n",
      "      </h3>\n",
      "      <div _ngcontent-sc216=\"\" class=\"right-sub\">\n",
      "       <!-- -->\n",
      "       <div _ngcontent-sc216=\"\" class=\"skills ng-star-inserted\">\n",
      "        <h4 _ngcontent-sc216=\"\">\n",
      "         Skills Covered\n",
      "        </h4>\n",
      "        <span _ngcontent-sc216=\"\" class=\"truncate-content\">\n",
      "         <!-- -->\n",
      "         <span _ngcontent-sc216=\"\" class=\"ng-star-inserted\">\n",
      "          TensorFlow,\n",
      "         </span>\n",
      "         <span _ngcontent-sc216=\"\" class=\"ng-star-inserted\">\n",
      "          Deep Learning,\n",
      "         </span>\n",
      "         <span _ngcontent-sc216=\"\" class=\"ng-star-inserted\">\n",
      "          scikit-learn,\n",
      "         </span>\n",
      "         <span _ngcontent-sc216=\"\" class=\"ng-star-inserted\">\n",
      "          Supervised Learning,\n",
      "         </span>\n",
      "         <span _ngcontent-sc216=\"\" class=\"ng-star-inserted\">\n",
      "          Unsupervised Learning\n",
      "         </span>\n",
      "        </span>\n",
      "       </div>\n",
      "       <!-- -->\n",
      "       <div _ngcontent-sc216=\"\" class=\"hidden-sm-down ng-star-inserted\">\n",
      "        <h4 _ngcontent-sc216=\"\">\n",
      "         In Collaboration With\n",
      "        </h4>\n",
      "        <span _ngcontent-sc216=\"\" class=\"truncate-content\">\n",
      "         <!-- -->\n",
      "         <span _ngcontent-sc216=\"\" class=\"ng-star-inserted\">\n",
      "          Kaggle,\n",
      "         </span>\n",
      "         <span _ngcontent-sc216=\"\" class=\"ng-star-inserted\">\n",
      "          AWS\n",
      "         </span>\n",
      "        </span>\n",
      "       </div>\n",
      "       <div _ngcontent-sc216=\"\" class=\"hidden-md-up level\">\n",
      "        <span _ngcontent-sc216=\"\" class=\"course-level course-level-beginner\" classname=\"course-level course-level-beginner\">\n",
      "        </span>\n",
      "        <span _ngcontent-sc216=\"\" class=\"capitalize\">\n",
      "         beginner\n",
      "        </span>\n",
      "       </div>\n",
      "      </div>\n",
      "     </div>\n",
      "    </div>\n",
      "    <div _ngcontent-sc216=\"\" class=\"card__inner--lower hidden-sm-down\">\n",
      "     <div _ngcontent-sc216=\"\" class=\"left uppercase blue expander pointer\">\n",
      "      <!-- -->\n",
      "      <span _ngcontent-sc216=\"\" class=\"ng-star-inserted\">\n",
      "       Nanodegree Details\n",
      "      </span>\n",
      "      <!-- -->\n",
      "     </div>\n",
      "     <div _ngcontent-sc216=\"\" class=\"right\">\n",
      "      <!-- -->\n",
      "      <span _ngcontent-sc216=\"\" class=\"caption text-right level ng-star-inserted\">\n",
      "       <span _ngcontent-sc216=\"\" class=\"course-level course-level-beginner\" classname=\"course-level course-level-beginner\">\n",
      "       </span>\n",
      "       <span _ngcontent-sc216=\"\" class=\"capitalize\">\n",
      "        beginner\n",
      "       </span>\n",
      "      </span>\n",
      "     </div>\n",
      "    </div>\n",
      "   </div>\n",
      "   <div _ngcontent-sc216=\"\" class=\"card__expander\">\n",
      "    <div _ngcontent-sc216=\"\" class=\"card__expander--summary mb-1\">\n",
      "     <!-- -->\n",
      "     <span _ngcontent-sc216=\"\" class=\"ng-star-inserted\">\n",
      "      Build a solid foundation in Supervised, Unsupervised, and Deep Learning. Then, use these skills to test and deploy machine learning models in a production environment.\n",
      "     </span>\n",
      "    </div>\n",
      "    <hr _ngcontent-sc216=\"\"/>\n",
      "    <div _ngcontent-sc216=\"\" class=\"card__expander--details\">\n",
      "     <div _ngcontent-sc216=\"\" class=\"rating\">\n",
      "      <!-- -->\n",
      "     </div>\n",
      "     <a _ngcontent-sc216=\"\" class=\"button--primary btn\" href=\"/course/intro-to-machine-learning-with-tensorflow-nanodegree--nd230\">\n",
      "      Learn More\n",
      "     </a>\n",
      "    </div>\n",
      "   </div>\n",
      "  </div>\n",
      " </ir-catalog-card>\n",
      " <!-- -->\n",
      "</div>\n",
      "\n"
     ]
    }
   ],
   "source": [
    "# print the first summary in summaries\n",
    "print(summaries[0].prettify())"
   ]
  },
  {
   "cell_type": "code",
   "execution_count": 6,
   "metadata": {
    "scrolled": false
   },
   "outputs": [
    {
     "name": "stdout",
     "output_type": "stream",
     "text": [
      "<div _ngcontent-sc213=\"\" class=\"course-summary-card row row-gap-medium catalog-card nanodegree-card ng-star-inserted\"><ir-catalog-card _ngcontent-sc213=\"\" _nghost-sc216=\"\"><div _ngcontent-sc216=\"\" class=\"card-wrapper is-collapsed\"><div _ngcontent-sc216=\"\" class=\"card__inner card mb-0\"><div _ngcontent-sc216=\"\" class=\"card__inner--upper\"><div _ngcontent-sc216=\"\" class=\"image_wrapper hidden-md-down\"><a _ngcontent-sc216=\"\" href=\"/course/intro-to-machine-learning-with-tensorflow-nanodegree--nd230\"><!-- --><div _ngcontent-sc216=\"\" class=\"image-container ng-star-inserted\" style=\"background-image:url(https://d20vrrgs8k4bvw.cloudfront.net/images/degrees/nd229/nd-card.jpg);\"><div _ngcontent-sc216=\"\" class=\"image-overlay\"></div></div></a><!-- --></div><div _ngcontent-sc216=\"\" class=\"card-content\"><!-- --><span _ngcontent-sc216=\"\" class=\"tag tag--new card ng-star-inserted\">New</span><!-- --><div _ngcontent-sc216=\"\" class=\"category-wrapper\"><span _ngcontent-sc216=\"\" class=\"mobile-icon\"></span><!-- --><h4 _ngcontent-sc216=\"\" class=\"category ng-star-inserted\"> School of Artificial Intelligence </h4></div><h3 _ngcontent-sc216=\"\" class=\"card-heading\"><a _ngcontent-sc216=\"\" class=\"capitalize\" href=\"/course/intro-to-machine-learning-with-tensorflow-nanodegree--nd230\">Intro to Machine Learning with TensorFlow</a></h3><div _ngcontent-sc216=\"\" class=\"right-sub\"><!-- --><div _ngcontent-sc216=\"\" class=\"skills ng-star-inserted\"><h4 _ngcontent-sc216=\"\">Skills Covered</h4><span _ngcontent-sc216=\"\" class=\"truncate-content\"><!-- --><span _ngcontent-sc216=\"\" class=\"ng-star-inserted\">TensorFlow, </span><span _ngcontent-sc216=\"\" class=\"ng-star-inserted\">Deep Learning, </span><span _ngcontent-sc216=\"\" class=\"ng-star-inserted\">scikit-learn, </span><span _ngcontent-sc216=\"\" class=\"ng-star-inserted\">Supervised Learning, </span><span _ngcontent-sc216=\"\" class=\"ng-star-inserted\">Unsupervised Learning</span></span></div><!-- --><div _ngcontent-sc216=\"\" class=\"hidden-sm-down ng-star-inserted\"><h4 _ngcontent-sc216=\"\"> In Collaboration With </h4><span _ngcontent-sc216=\"\" class=\"truncate-content\"><!-- --><span _ngcontent-sc216=\"\" class=\"ng-star-inserted\">Kaggle, </span><span _ngcontent-sc216=\"\" class=\"ng-star-inserted\">AWS</span></span></div><div _ngcontent-sc216=\"\" class=\"hidden-md-up level\"><span _ngcontent-sc216=\"\" class=\"course-level course-level-beginner\" classname=\"course-level course-level-beginner\"></span><span _ngcontent-sc216=\"\" class=\"capitalize\">beginner</span></div></div></div></div><div _ngcontent-sc216=\"\" class=\"card__inner--lower hidden-sm-down\"><div _ngcontent-sc216=\"\" class=\"left uppercase blue expander pointer\"><!-- --><span _ngcontent-sc216=\"\" class=\"ng-star-inserted\">Nanodegree Details</span><!-- --></div><div _ngcontent-sc216=\"\" class=\"right\"><!-- --><span _ngcontent-sc216=\"\" class=\"caption text-right level ng-star-inserted\"><span _ngcontent-sc216=\"\" class=\"course-level course-level-beginner\" classname=\"course-level course-level-beginner\"></span><span _ngcontent-sc216=\"\" class=\"capitalize\">beginner</span></span></div></div></div><div _ngcontent-sc216=\"\" class=\"card__expander\"><div _ngcontent-sc216=\"\" class=\"card__expander--summary mb-1\"><!-- --><span _ngcontent-sc216=\"\" class=\"ng-star-inserted\">Build a solid foundation in Supervised, Unsupervised, and Deep Learning. Then, use these skills to test and deploy machine learning models in a production environment.</span></div><hr _ngcontent-sc216=\"\"/><div _ngcontent-sc216=\"\" class=\"card__expander--details\"><div _ngcontent-sc216=\"\" class=\"rating\"><!-- --></div><a _ngcontent-sc216=\"\" class=\"button--primary btn\" href=\"/course/intro-to-machine-learning-with-tensorflow-nanodegree--nd230\">Learn More</a></div></div></div></ir-catalog-card><!-- --></div>\n"
     ]
    }
   ],
   "source": [
    "print(summaries[0])"
   ]
  },
  {
   "cell_type": "markdown",
   "metadata": {},
   "source": [
    "Look for selectors that contain the courses title and school name text you want to extract. Then, use the `select_one` method on the summary object to pull out the html with those selectors. Afterwards, don't forget to do some extra cleaning to isolate the names (get rid of unnecessary html), as you saw in the last video."
   ]
  },
  {
   "cell_type": "code",
   "execution_count": 7,
   "metadata": {},
   "outputs": [
    {
     "data": {
      "text/plain": [
       "'Intro to Machine Learning with TensorFlow'"
      ]
     },
     "execution_count": 7,
     "metadata": {},
     "output_type": "execute_result"
    }
   ],
   "source": [
    "# Extract course title\n",
    "summaries[0].select_one(\"h3\").get_text().strip()"
   ]
  },
  {
   "cell_type": "code",
   "execution_count": 8,
   "metadata": {},
   "outputs": [
    {
     "data": {
      "text/plain": [
       "'School of Artificial Intelligence'"
      ]
     },
     "execution_count": 8,
     "metadata": {},
     "output_type": "execute_result"
    }
   ],
   "source": [
    "# Extract school\n",
    "summaries[0].select_one(\"h4\").get_text().strip()"
   ]
  },
  {
   "cell_type": "markdown",
   "metadata": {},
   "source": [
    "### Step 5: Collect names and schools of ALL course listings\n",
    "Reuse your code from the previous step, but now in a loop to extract the name and school from every course summary in `summaries`!"
   ]
  },
  {
   "cell_type": "code",
   "execution_count": 11,
   "metadata": {},
   "outputs": [],
   "source": [
    "courses = []\n",
    "for summary in summaries:\n",
    "    # append name and school of each summary to courses list\n",
    "    course_title = summary.select_one(\"h3\").get_text().strip()\n",
    "    course_school = summary.select_one(\"h4\").get_text().strip()\n",
    "    \n",
    "    # courses.append([course_title, course_school]) # list of lists\n",
    "    courses.append((course_title, course_school)) # lift of tuples (solution)\n"
   ]
  },
  {
   "cell_type": "code",
   "execution_count": 12,
   "metadata": {},
   "outputs": [
    {
     "name": "stdout",
     "output_type": "stream",
     "text": [
      "235 course summaries found. Sample:\n"
     ]
    },
    {
     "data": {
      "text/plain": [
       "[('Intro to Machine Learning with TensorFlow',\n",
       "  'School of Artificial Intelligence'),\n",
       " ('UX Designer', 'School of Business'),\n",
       " ('Data Streaming', 'School of Data Science'),\n",
       " ('Front End Web Developer', 'School of Programming'),\n",
       " ('Full Stack Web Developer', 'School of Programming'),\n",
       " ('Java Developer', 'School of Programming'),\n",
       " ('AI Product Manager', 'School of Artificial Intelligence'),\n",
       " ('Sensor Fusion Engineer', 'School of Autonomous Systems'),\n",
       " ('Data Visualization', 'School of Data Science'),\n",
       " ('Cloud Developer', 'School of Cloud Computing'),\n",
       " ('Cloud DevOps Engineer', 'School of Cloud Computing'),\n",
       " ('Intro to Machine Learning with PyTorch',\n",
       "  'School of Artificial Intelligence'),\n",
       " ('C++', 'School of Autonomous Systems'),\n",
       " ('Data Structures and Algorithms', 'School of Programming'),\n",
       " ('Programming for Data Science with R', 'School of Data Science'),\n",
       " ('Data Engineer', 'School of Data Science'),\n",
       " ('Marketing Analytics', 'School of Business'),\n",
       " ('Introduction to Programming', 'School of Programming'),\n",
       " ('Data Analyst', 'School of Data Science'),\n",
       " ('iOS Developer', 'School of Programming')]"
      ]
     },
     "execution_count": 12,
     "metadata": {},
     "output_type": "execute_result"
    }
   ],
   "source": [
    "# display results\n",
    "print(len(courses), \"course summaries found. Sample:\")\n",
    "courses[:20]"
   ]
  },
  {
   "cell_type": "code",
   "execution_count": null,
   "metadata": {},
   "outputs": [],
   "source": []
  }
 ],
 "metadata": {
  "kernelspec": {
   "display_name": "Python 3",
   "language": "python",
   "name": "python3"
  },
  "language_info": {
   "codemirror_mode": {
    "name": "ipython",
    "version": 3
   },
   "file_extension": ".py",
   "mimetype": "text/x-python",
   "name": "python",
   "nbconvert_exporter": "python",
   "pygments_lexer": "ipython3",
   "version": "3.6.3"
  }
 },
 "nbformat": 4,
 "nbformat_minor": 2
}
